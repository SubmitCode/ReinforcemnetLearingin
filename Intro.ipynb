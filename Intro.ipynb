{
  "nbformat": 4,
  "nbformat_minor": 0,
  "metadata": {
    "colab": {
      "name": "Untitled0.ipynb",
      "version": "0.3.2",
      "provenance": [],
      "collapsed_sections": [],
      "toc_visible": true
    },
    "kernelspec": {
      "name": "python3",
      "display_name": "Python 3"
    }
  },
  "cells": [
    {
      "cell_type": "markdown",
      "metadata": {
        "id": "view-in-github",
        "colab_type": "text"
      },
      "source": [
        "[View in Colaboratory](https://colab.research.google.com/github/SubmitCode/ReinforcemnetLearning/blob/master/Intro.ipynb)"
      ]
    },
    {
      "metadata": {
        "id": "HEf3UyL49cSs",
        "colab_type": "text"
      },
      "cell_type": "markdown",
      "source": [
        "# Part 1: Explorative Dataanalysis\n",
        "\n",
        "\n",
        "## Intro\n",
        "Ix und Px haben ja eine Tippgruppe bei www.srf.ch . Persönlich bin ich ja nicht der grösste Fussballfan. Dennoch dachte ich, mir es wäre eine gute Gelegenheit das Verständnis für Data Science und auch die \"Lust\" auf Data Science bei Inventx zu schüren :-) Natürlich wäre es auch super wenn unser Tippgruppe die beste wäre. In den folgenden Posts werde ich immer mal verschiedene Fakten und Statistiken aufzeigen, die uns als Team helfen sollen unsere Vorhersagen zu stärken. Im ersten Teil geht es um Data Exploration. Dabei werde ich mal die Daten analysieren die ich so gefunden habe. \n",
        "\n",
        "Wenn ihr noch mehr Daten habt oder gute Webseiten kennt, welche man mit Webscrapern abgrasen kann. Lasst es mich wissen und wir besorgen uns die Date. Als frei nach dem Motto \"let's get our hands dirty\" - lasst uns starten. \n",
        "\n",
        ".. und unter uns gesagt ist das ganze nicht immer selbstlos. Es hilft auch mir wieder mein Wissen zu erweitern und aufzufrischen.\n",
        "\n",
        "\n",
        "## Setup\n",
        "Wenn ihr dies liest seit ihr im Colab-Portal von Google. Dies ist Googles Interpretation von Jupyter Notebooks. Es hilft übers Web einfach mit anderen zusammen zu arbeiten und ist zudem Gratis und das beste ist, Google stellt gratis GPU's zu Verfügung um auch komplexere ML (Machine Learning) - Modelle zu testen. [Mehr](https://colab.research.google.com/notebooks/welcome.ipyn) über Colab Notebooks findet ihr hier.\n",
        "\n",
        "\n",
        "## Generelle Infos\n",
        "Vielleicht sind manchen Dinge nicht ganz verständlich. Bei Fragen könnt ihr einfach auf mich zukommen oder einen Post auf Github hinterlassen.\n",
        "https://github.com/SubmitCode/fifa_prediction\n",
        "\n",
        "\n",
        "\n",
        "## Datenquellen\n",
        "Zu allererst brauchen wir mal Daten. Hier bin ich auf www.kaggle.com fündig gewerden. Insgesamt werden wir mit 3 Datasets starten.\n",
        "- __FIFA Soccer Rankings__ Infos über die Rankingmehthode findet ihr [hier](https://en.wikipedia.org/wiki/FIFA_World_Rankings). Diese Daten wurden von der [Fifa Page](https://www.fifa.com/fifa-world-ranking/ranking-table/men/index.html) extrahiert. Wer die Daten selbst runterladen will kann dies [hier](https://www.kaggle.com/tadhgfitzgerald/fifa-international-soccer-mens-ranking-1993now/data) tun . Zu den Daten selbst kommen wir später. \n",
        "- __FIFA 18 Complete Player dataset__ Das sind mal richtig coole Daten. Hier finden wir Daten von allen Spielern der Fifa für das Jahr 2018. Dabei hat jeder Spieler über 70 Attribute. Angefangen über Gewicht, Salär bis hin zu \"Aggression\", \"Preferred Position\" etc.\n",
        "- __FIFA World Cup__ [Hier](https://www.kaggle.com/abecklas/fifa-world-cup/data) findet ihr die Daten aller WM Spiele seit 1930. \n",
        "\n"
      ]
    },
    {
      "metadata": {
        "id": "9PHho3lRC361",
        "colab_type": "code",
        "colab": {}
      },
      "cell_type": "code",
      "source": [
        "# import von den libraries die wir für die Berechnungen und Visualisierungen \n",
        "# benötigen\n",
        "import numpy as np\n",
        "import pandas as pd\n",
        "import matplotlib.pyplot as plt"
      ],
      "execution_count": 0,
      "outputs": []
    },
    {
      "metadata": {
        "id": "5DSSZEBxDbHp",
        "colab_type": "code",
        "colab": {}
      },
      "cell_type": "code",
      "source": [
        ""
      ],
      "execution_count": 0,
      "outputs": []
    },
    {
      "metadata": {
        "id": "wq6GUcG7ERnz",
        "colab_type": "text"
      },
      "cell_type": "markdown",
      "source": [
        ""
      ]
    }
  ]
}