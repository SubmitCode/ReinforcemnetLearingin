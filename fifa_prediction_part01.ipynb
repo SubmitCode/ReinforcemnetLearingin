{
  "nbformat": 4,
  "nbformat_minor": 0,
  "metadata": {
    "colab": {
      "name": "fifa_prediction_part01.ipynb",
      "version": "0.3.2",
      "provenance": [],
      "collapsed_sections": [],
      "toc_visible": true
    },
    "kernelspec": {
      "name": "python3",
      "display_name": "Python 3"
    }
  },
  "cells": [
    {
      "cell_type": "markdown",
      "metadata": {
        "id": "view-in-github",
        "colab_type": "text"
      },
      "source": [
        "[View in Colaboratory](https://colab.research.google.com/github/SubmitCode/ReinforcemnetLearning/blob/master/fifa_prediction_part01.ipynb)"
      ]
    },
    {
      "metadata": {
        "id": "HEf3UyL49cSs",
        "colab_type": "text"
      },
      "cell_type": "markdown",
      "source": [
        "# Part 1: Explorative Dataanalysis\n",
        "\n",
        "\n",
        "\n",
        "\n",
        "\n",
        "\n",
        "\n",
        "\n"
      ]
    },
    {
      "metadata": {
        "id": "wHQwTJ1TWOZZ",
        "colab_type": "text"
      },
      "cell_type": "markdown",
      "source": [
        "## Intro\n",
        "Ix und Px haben ja eine Tippgruppe bei www.srf.ch . Persönlich bin ich ja nicht der grösste Fussballfan. Dennoch dachte ich, mir es wäre eine gute Gelegenheit das Verständnis für Data Science und auch die \"Lust\" auf Data Science bei Inventx zu schüren :-) Natürlich wäre es auch super wenn unser Tippgruppe die beste wäre. In den folgenden Posts werde ich immer mal verschiedene Fakten und Statistiken aufzeigen, die uns als Team helfen sollen unsere Vorhersagen zu stärken. Im ersten Teil geht es um Data Exploration. Dabei werde ich mal die Daten analysieren die ich so gefunden habe. \n",
        "\n",
        "Wenn ihr noch mehr Daten habt oder gute Webseiten kennt, welche man mit Webscrapern abgrasen kann. Lasst es mich wissen und wir besorgen uns die Date. Als frei nach dem Motto \"let's get our hands dirty\" - lasst uns starten. \n",
        "\n",
        ".. und unter uns gesagt ist das ganze nicht immer selbstlos. Es hilft auch mir wieder mein Wissen zu erweitern und aufzufrischen.\n"
      ]
    },
    {
      "metadata": {
        "id": "K5JAaKOjWl58",
        "colab_type": "text"
      },
      "cell_type": "markdown",
      "source": [
        "## Generelle Infos\n",
        "Vielleicht sind manchen Dinge nicht ganz verständlich. Bei Fragen könnt ihr einfach auf mich zukommen oder einen Post auf Github hinterlassen.\n",
        "https://github.com/SubmitCode/fifa_prediction"
      ]
    },
    {
      "metadata": {
        "id": "BdEmx-H-WAKK",
        "colab_type": "text"
      },
      "cell_type": "markdown",
      "source": [
        "## Setup\n",
        "Wenn ihr dies liest seit ihr im Colab-Portal von Google. Dies ist Googles Interpretation von Jupyter Notebooks. Es hilft übers Web einfach mit anderen zusammen zu arbeiten und ist zudem Gratis und das beste ist, Google stellt gratis GPU's zu Verfügung um auch komplexere ML (Machine Learning) - Modelle zu testen. [Mehr](https://colab.research.google.com/notebooks/welcome.ipyn) über Colab Notebooks findet ihr hier."
      ]
    },
    {
      "metadata": {
        "id": "wMQ5ZWsDWT8e",
        "colab_type": "text"
      },
      "cell_type": "markdown",
      "source": [
        "## Datenquellen\n",
        "Zu allererst brauchen wir mal Daten. Hier bin ich auf www.kaggle.com fündig gewerden. Insgesamt werden wir mit 3 Datasets starten.\n",
        "- __FIFA Soccer Rankings__ Infos über die Rankingmehthode findet ihr [hier](https://en.wikipedia.org/wiki/FIFA_World_Rankings). Diese Daten wurden von der [Fifa Page](https://www.fifa.com/fifa-world-ranking/ranking-table/men/index.html) extrahiert. Wer die Daten selbst runterladen will kann dies [hier](https://www.kaggle.com/tadhgfitzgerald/fifa-international-soccer-mens-ranking-1993now/data) tun . Zu den Daten selbst kommen wir später. \n",
        "- __FIFA 18 Complete Player dataset__ Das sind mal richtig coole Daten. Hier finden wir Daten von allen Spielern der Fifa für das Jahr 2018. Dabei hat jeder Spieler über 70 Attribute. Angefangen über Gewicht, Salär bis hin zu \"Aggression\", \"Preferred Position\" etc.\n",
        "- __FIFA World Cup__ [Hier](https://www.kaggle.com/abecklas/fifa-world-cup/data) findet ihr die Daten aller WM Spiele seit 1930. \n",
        "\n"
      ]
    },
    {
      "metadata": {
        "id": "0IPEcJJlV-a2",
        "colab_type": "text"
      },
      "cell_type": "markdown",
      "source": [
        ""
      ]
    },
    {
      "metadata": {
        "id": "z58WAVH5WqQ-",
        "colab_type": "text"
      },
      "cell_type": "markdown",
      "source": [
        "# Data Description\n",
        "\n",
        "In diesem Abschnitt will ich euch die ersten Datasets vorstellen. Laut Wikipedia werden folgende wesentlichen Faktoren bei den Ranking berücksichtigt:\n",
        "\n",
        "\n",
        "*   Match Result - hier kann man bis zu 3 Punkte erreichen \n",
        "*   Match Status - hierbei geht es darum ob es ein Freundschaftsspiel ist oder z.B. ein Meisterschaftsspiel\n",
        "*   Opposition strength - Formel: (200 - ranking position) / 100\n",
        "*   Regional strength - hierbei gibt es verschiedene Gruppen. Dies ist insofern wichtig da vielleich in Asien der Fussball nicht so stark vertreten ist wie z.B. in Südamerika.\n",
        "\n"
      ]
    },
    {
      "metadata": {
        "id": "gpox2X1gW2ww",
        "colab_type": "text"
      },
      "cell_type": "markdown",
      "source": [
        "## Fifa Rankings\n"
      ]
    },
    {
      "metadata": {
        "id": "9PHho3lRC361",
        "colab_type": "code",
        "colab": {}
      },
      "cell_type": "code",
      "source": [
        "# import von den libraries die wir für die Berechnungen und Visualisierungen \n",
        "# benötigen\n",
        "import numpy as np\n",
        "import pandas as pd\n",
        "import matplotlib.pyplot as plt\n"
      ],
      "execution_count": 0,
      "outputs": []
    },
    {
      "metadata": {
        "id": "5DSSZEBxDbHp",
        "colab_type": "code",
        "colab": {}
      },
      "cell_type": "code",
      "source": [
        "# laod data from github\n",
        "pathFifaRanking = \"https://github.com/SubmitCode/fifa_prediction/raw/master/data/FIFASoccerRankings/fifa_ranking.csv\"\n",
        "rank_data = pd.read_csv(pathFifaRanking)"
      ],
      "execution_count": 0,
      "outputs": []
    },
    {
      "metadata": {
        "id": "iyX82h34Ztlu",
        "colab_type": "code",
        "colab": {
          "base_uri": "https://localhost:8080/",
          "height": 309
        },
        "outputId": "bd376797-2767-407c-ea26-038ccfc9e022"
      },
      "cell_type": "code",
      "source": [
        "rank_data.tail()"
      ],
      "execution_count": 66,
      "outputs": [
        {
          "output_type": "execute_result",
          "data": {
            "text/html": [
              "<div>\n",
              "<style scoped>\n",
              "    .dataframe tbody tr th:only-of-type {\n",
              "        vertical-align: middle;\n",
              "    }\n",
              "\n",
              "    .dataframe tbody tr th {\n",
              "        vertical-align: top;\n",
              "    }\n",
              "\n",
              "    .dataframe thead th {\n",
              "        text-align: right;\n",
              "    }\n",
              "</style>\n",
              "<table border=\"1\" class=\"dataframe\">\n",
              "  <thead>\n",
              "    <tr style=\"text-align: right;\">\n",
              "      <th></th>\n",
              "      <th>rank</th>\n",
              "      <th>country_full</th>\n",
              "      <th>country_abrv</th>\n",
              "      <th>total_points</th>\n",
              "      <th>previous_points</th>\n",
              "      <th>rank_change</th>\n",
              "      <th>cur_year_avg</th>\n",
              "      <th>cur_year_avg_weighted</th>\n",
              "      <th>last_year_avg</th>\n",
              "      <th>last_year_avg_weighted</th>\n",
              "      <th>two_year_ago_avg</th>\n",
              "      <th>two_year_ago_weighted</th>\n",
              "      <th>three_year_ago_avg</th>\n",
              "      <th>three_year_ago_weighted</th>\n",
              "      <th>confederation</th>\n",
              "      <th>rank_date</th>\n",
              "    </tr>\n",
              "  </thead>\n",
              "  <tbody>\n",
              "    <tr>\n",
              "      <th>57788</th>\n",
              "      <td>206</td>\n",
              "      <td>Anguilla</td>\n",
              "      <td>AIA</td>\n",
              "      <td>0.0</td>\n",
              "      <td>0</td>\n",
              "      <td>1</td>\n",
              "      <td>0.0</td>\n",
              "      <td>0.0</td>\n",
              "      <td>0.0</td>\n",
              "      <td>0.0</td>\n",
              "      <td>0.0</td>\n",
              "      <td>0.0</td>\n",
              "      <td>0.0</td>\n",
              "      <td>0.0</td>\n",
              "      <td>CONCACAF</td>\n",
              "      <td>2018-06-07</td>\n",
              "    </tr>\n",
              "    <tr>\n",
              "      <th>57789</th>\n",
              "      <td>206</td>\n",
              "      <td>Bahamas</td>\n",
              "      <td>BAH</td>\n",
              "      <td>0.0</td>\n",
              "      <td>0</td>\n",
              "      <td>1</td>\n",
              "      <td>0.0</td>\n",
              "      <td>0.0</td>\n",
              "      <td>0.0</td>\n",
              "      <td>0.0</td>\n",
              "      <td>0.0</td>\n",
              "      <td>0.0</td>\n",
              "      <td>0.0</td>\n",
              "      <td>0.0</td>\n",
              "      <td>CONCACAF</td>\n",
              "      <td>2018-06-07</td>\n",
              "    </tr>\n",
              "    <tr>\n",
              "      <th>57790</th>\n",
              "      <td>206</td>\n",
              "      <td>Eritrea</td>\n",
              "      <td>ERI</td>\n",
              "      <td>0.0</td>\n",
              "      <td>0</td>\n",
              "      <td>1</td>\n",
              "      <td>0.0</td>\n",
              "      <td>0.0</td>\n",
              "      <td>0.0</td>\n",
              "      <td>0.0</td>\n",
              "      <td>0.0</td>\n",
              "      <td>0.0</td>\n",
              "      <td>0.0</td>\n",
              "      <td>0.0</td>\n",
              "      <td>CAF</td>\n",
              "      <td>2018-06-07</td>\n",
              "    </tr>\n",
              "    <tr>\n",
              "      <th>57791</th>\n",
              "      <td>206</td>\n",
              "      <td>Somalia</td>\n",
              "      <td>SOM</td>\n",
              "      <td>0.0</td>\n",
              "      <td>0</td>\n",
              "      <td>1</td>\n",
              "      <td>0.0</td>\n",
              "      <td>0.0</td>\n",
              "      <td>0.0</td>\n",
              "      <td>0.0</td>\n",
              "      <td>0.0</td>\n",
              "      <td>0.0</td>\n",
              "      <td>0.0</td>\n",
              "      <td>0.0</td>\n",
              "      <td>CAF</td>\n",
              "      <td>2018-06-07</td>\n",
              "    </tr>\n",
              "    <tr>\n",
              "      <th>57792</th>\n",
              "      <td>206</td>\n",
              "      <td>Tonga</td>\n",
              "      <td>TGA</td>\n",
              "      <td>0.0</td>\n",
              "      <td>0</td>\n",
              "      <td>1</td>\n",
              "      <td>0.0</td>\n",
              "      <td>0.0</td>\n",
              "      <td>0.0</td>\n",
              "      <td>0.0</td>\n",
              "      <td>0.0</td>\n",
              "      <td>0.0</td>\n",
              "      <td>0.0</td>\n",
              "      <td>0.0</td>\n",
              "      <td>OFC</td>\n",
              "      <td>2018-06-07</td>\n",
              "    </tr>\n",
              "  </tbody>\n",
              "</table>\n",
              "</div>"
            ],
            "text/plain": [
              "       rank country_full country_abrv  total_points  previous_points  \\\n",
              "57788   206     Anguilla          AIA           0.0                0   \n",
              "57789   206      Bahamas          BAH           0.0                0   \n",
              "57790   206      Eritrea          ERI           0.0                0   \n",
              "57791   206      Somalia          SOM           0.0                0   \n",
              "57792   206        Tonga          TGA           0.0                0   \n",
              "\n",
              "       rank_change  cur_year_avg  cur_year_avg_weighted  last_year_avg  \\\n",
              "57788            1           0.0                    0.0            0.0   \n",
              "57789            1           0.0                    0.0            0.0   \n",
              "57790            1           0.0                    0.0            0.0   \n",
              "57791            1           0.0                    0.0            0.0   \n",
              "57792            1           0.0                    0.0            0.0   \n",
              "\n",
              "       last_year_avg_weighted  two_year_ago_avg  two_year_ago_weighted  \\\n",
              "57788                     0.0               0.0                    0.0   \n",
              "57789                     0.0               0.0                    0.0   \n",
              "57790                     0.0               0.0                    0.0   \n",
              "57791                     0.0               0.0                    0.0   \n",
              "57792                     0.0               0.0                    0.0   \n",
              "\n",
              "       three_year_ago_avg  three_year_ago_weighted confederation   rank_date  \n",
              "57788                 0.0                      0.0      CONCACAF  2018-06-07  \n",
              "57789                 0.0                      0.0      CONCACAF  2018-06-07  \n",
              "57790                 0.0                      0.0           CAF  2018-06-07  \n",
              "57791                 0.0                      0.0           CAF  2018-06-07  \n",
              "57792                 0.0                      0.0           OFC  2018-06-07  "
            ]
          },
          "metadata": {
            "tags": []
          },
          "execution_count": 66
        }
      ]
    },
    {
      "metadata": {
        "id": "dOilikEdZEWm",
        "colab_type": "code",
        "colab": {
          "base_uri": "https://localhost:8080/",
          "height": 408
        },
        "outputId": "0dd520e6-2541-45b9-d781-9ad4ff4f3ade"
      },
      "cell_type": "code",
      "source": [
        "print(\"data frame general infos:\")\n",
        "print(rank_data.info())"
      ],
      "execution_count": 67,
      "outputs": [
        {
          "output_type": "stream",
          "text": [
            "data frame general infos:\n",
            "<class 'pandas.core.frame.DataFrame'>\n",
            "RangeIndex: 57793 entries, 0 to 57792\n",
            "Data columns (total 16 columns):\n",
            "rank                       57793 non-null int64\n",
            "country_full               57793 non-null object\n",
            "country_abrv               57793 non-null object\n",
            "total_points               57793 non-null float64\n",
            "previous_points            57793 non-null int64\n",
            "rank_change                57793 non-null int64\n",
            "cur_year_avg               57793 non-null float64\n",
            "cur_year_avg_weighted      57793 non-null float64\n",
            "last_year_avg              57793 non-null float64\n",
            "last_year_avg_weighted     57793 non-null float64\n",
            "two_year_ago_avg           57793 non-null float64\n",
            "two_year_ago_weighted      57793 non-null float64\n",
            "three_year_ago_avg         57793 non-null float64\n",
            "three_year_ago_weighted    57793 non-null float64\n",
            "confederation              57793 non-null object\n",
            "rank_date                  57793 non-null object\n",
            "dtypes: float64(9), int64(3), object(4)\n",
            "memory usage: 7.1+ MB\n",
            "None\n"
          ],
          "name": "stdout"
        }
      ]
    },
    {
      "metadata": {
        "id": "ZRGQKvwQZKuB",
        "colab_type": "code",
        "colab": {
          "base_uri": "https://localhost:8080/",
          "height": 317
        },
        "outputId": "05b4a70f-9a82-4658-9300-186ffdeba6bb"
      },
      "cell_type": "code",
      "source": [
        "rank_data.describe()"
      ],
      "execution_count": 68,
      "outputs": [
        {
          "output_type": "execute_result",
          "data": {
            "text/html": [
              "<div>\n",
              "<style scoped>\n",
              "    .dataframe tbody tr th:only-of-type {\n",
              "        vertical-align: middle;\n",
              "    }\n",
              "\n",
              "    .dataframe tbody tr th {\n",
              "        vertical-align: top;\n",
              "    }\n",
              "\n",
              "    .dataframe thead th {\n",
              "        text-align: right;\n",
              "    }\n",
              "</style>\n",
              "<table border=\"1\" class=\"dataframe\">\n",
              "  <thead>\n",
              "    <tr style=\"text-align: right;\">\n",
              "      <th></th>\n",
              "      <th>rank</th>\n",
              "      <th>total_points</th>\n",
              "      <th>previous_points</th>\n",
              "      <th>rank_change</th>\n",
              "      <th>cur_year_avg</th>\n",
              "      <th>cur_year_avg_weighted</th>\n",
              "      <th>last_year_avg</th>\n",
              "      <th>last_year_avg_weighted</th>\n",
              "      <th>two_year_ago_avg</th>\n",
              "      <th>two_year_ago_weighted</th>\n",
              "      <th>three_year_ago_avg</th>\n",
              "      <th>three_year_ago_weighted</th>\n",
              "    </tr>\n",
              "  </thead>\n",
              "  <tbody>\n",
              "    <tr>\n",
              "      <th>count</th>\n",
              "      <td>57793.000000</td>\n",
              "      <td>57793.000000</td>\n",
              "      <td>57793.000000</td>\n",
              "      <td>57793.000000</td>\n",
              "      <td>57793.000000</td>\n",
              "      <td>57793.000000</td>\n",
              "      <td>57793.000000</td>\n",
              "      <td>57793.000000</td>\n",
              "      <td>57793.000000</td>\n",
              "      <td>57793.000000</td>\n",
              "      <td>57793.000000</td>\n",
              "      <td>57793.000000</td>\n",
              "    </tr>\n",
              "    <tr>\n",
              "      <th>mean</th>\n",
              "      <td>101.628086</td>\n",
              "      <td>122.068637</td>\n",
              "      <td>332.302926</td>\n",
              "      <td>-0.009897</td>\n",
              "      <td>61.798602</td>\n",
              "      <td>61.798602</td>\n",
              "      <td>61.004602</td>\n",
              "      <td>30.502377</td>\n",
              "      <td>59.777462</td>\n",
              "      <td>17.933277</td>\n",
              "      <td>59.173916</td>\n",
              "      <td>11.834811</td>\n",
              "    </tr>\n",
              "    <tr>\n",
              "      <th>std</th>\n",
              "      <td>58.618424</td>\n",
              "      <td>260.426863</td>\n",
              "      <td>302.872948</td>\n",
              "      <td>5.804309</td>\n",
              "      <td>138.014883</td>\n",
              "      <td>138.014883</td>\n",
              "      <td>137.688204</td>\n",
              "      <td>68.844143</td>\n",
              "      <td>136.296079</td>\n",
              "      <td>40.888849</td>\n",
              "      <td>135.533343</td>\n",
              "      <td>27.106675</td>\n",
              "    </tr>\n",
              "    <tr>\n",
              "      <th>min</th>\n",
              "      <td>1.000000</td>\n",
              "      <td>0.000000</td>\n",
              "      <td>0.000000</td>\n",
              "      <td>-72.000000</td>\n",
              "      <td>0.000000</td>\n",
              "      <td>0.000000</td>\n",
              "      <td>0.000000</td>\n",
              "      <td>0.000000</td>\n",
              "      <td>0.000000</td>\n",
              "      <td>0.000000</td>\n",
              "      <td>0.000000</td>\n",
              "      <td>0.000000</td>\n",
              "    </tr>\n",
              "    <tr>\n",
              "      <th>25%</th>\n",
              "      <td>51.000000</td>\n",
              "      <td>0.000000</td>\n",
              "      <td>56.000000</td>\n",
              "      <td>-2.000000</td>\n",
              "      <td>0.000000</td>\n",
              "      <td>0.000000</td>\n",
              "      <td>0.000000</td>\n",
              "      <td>0.000000</td>\n",
              "      <td>0.000000</td>\n",
              "      <td>0.000000</td>\n",
              "      <td>0.000000</td>\n",
              "      <td>0.000000</td>\n",
              "    </tr>\n",
              "    <tr>\n",
              "      <th>50%</th>\n",
              "      <td>101.000000</td>\n",
              "      <td>0.000000</td>\n",
              "      <td>272.000000</td>\n",
              "      <td>0.000000</td>\n",
              "      <td>0.000000</td>\n",
              "      <td>0.000000</td>\n",
              "      <td>0.000000</td>\n",
              "      <td>0.000000</td>\n",
              "      <td>0.000000</td>\n",
              "      <td>0.000000</td>\n",
              "      <td>0.000000</td>\n",
              "      <td>0.000000</td>\n",
              "    </tr>\n",
              "    <tr>\n",
              "      <th>75%</th>\n",
              "      <td>152.000000</td>\n",
              "      <td>92.790000</td>\n",
              "      <td>525.000000</td>\n",
              "      <td>1.000000</td>\n",
              "      <td>32.250000</td>\n",
              "      <td>32.250000</td>\n",
              "      <td>26.660000</td>\n",
              "      <td>13.330000</td>\n",
              "      <td>21.500000</td>\n",
              "      <td>6.450000</td>\n",
              "      <td>21.250000</td>\n",
              "      <td>4.250000</td>\n",
              "    </tr>\n",
              "    <tr>\n",
              "      <th>max</th>\n",
              "      <td>209.000000</td>\n",
              "      <td>1775.030000</td>\n",
              "      <td>1920.000000</td>\n",
              "      <td>92.000000</td>\n",
              "      <td>1158.660000</td>\n",
              "      <td>1158.660000</td>\n",
              "      <td>1169.570000</td>\n",
              "      <td>584.790000</td>\n",
              "      <td>1159.710000</td>\n",
              "      <td>347.910000</td>\n",
              "      <td>1200.770000</td>\n",
              "      <td>240.150000</td>\n",
              "    </tr>\n",
              "  </tbody>\n",
              "</table>\n",
              "</div>"
            ],
            "text/plain": [
              "               rank  total_points  previous_points   rank_change  \\\n",
              "count  57793.000000  57793.000000     57793.000000  57793.000000   \n",
              "mean     101.628086    122.068637       332.302926     -0.009897   \n",
              "std       58.618424    260.426863       302.872948      5.804309   \n",
              "min        1.000000      0.000000         0.000000    -72.000000   \n",
              "25%       51.000000      0.000000        56.000000     -2.000000   \n",
              "50%      101.000000      0.000000       272.000000      0.000000   \n",
              "75%      152.000000     92.790000       525.000000      1.000000   \n",
              "max      209.000000   1775.030000      1920.000000     92.000000   \n",
              "\n",
              "       cur_year_avg  cur_year_avg_weighted  last_year_avg  \\\n",
              "count  57793.000000           57793.000000   57793.000000   \n",
              "mean      61.798602              61.798602      61.004602   \n",
              "std      138.014883             138.014883     137.688204   \n",
              "min        0.000000               0.000000       0.000000   \n",
              "25%        0.000000               0.000000       0.000000   \n",
              "50%        0.000000               0.000000       0.000000   \n",
              "75%       32.250000              32.250000      26.660000   \n",
              "max     1158.660000            1158.660000    1169.570000   \n",
              "\n",
              "       last_year_avg_weighted  two_year_ago_avg  two_year_ago_weighted  \\\n",
              "count            57793.000000      57793.000000           57793.000000   \n",
              "mean                30.502377         59.777462              17.933277   \n",
              "std                 68.844143        136.296079              40.888849   \n",
              "min                  0.000000          0.000000               0.000000   \n",
              "25%                  0.000000          0.000000               0.000000   \n",
              "50%                  0.000000          0.000000               0.000000   \n",
              "75%                 13.330000         21.500000               6.450000   \n",
              "max                584.790000       1159.710000             347.910000   \n",
              "\n",
              "       three_year_ago_avg  three_year_ago_weighted  \n",
              "count        57793.000000             57793.000000  \n",
              "mean            59.173916                11.834811  \n",
              "std            135.533343                27.106675  \n",
              "min              0.000000                 0.000000  \n",
              "25%              0.000000                 0.000000  \n",
              "50%              0.000000                 0.000000  \n",
              "75%             21.250000                 4.250000  \n",
              "max           1200.770000               240.150000  "
            ]
          },
          "metadata": {
            "tags": []
          },
          "execution_count": 68
        }
      ]
    },
    {
      "metadata": {
        "id": "09hjWNCmbA4T",
        "colab_type": "code",
        "colab": {
          "base_uri": "https://localhost:8080/",
          "height": 85
        },
        "outputId": "8d58cd60-2bac-44e1-a4aa-40cd86a705c6"
      },
      "cell_type": "code",
      "source": [
        "print(\"das frühste rank_date ist {}\".format(rank_data.rank_date.min()))\n",
        "print(\"das letzte rank_date ist {}\".format(rank_data.rank_date.max()))\n",
        "conditions = (rank_data.rank_date == rank_data.rank_date.max()) \n",
        "latestRank = rank_data[conditions].sort_values('rank')\n",
        "\n",
        "print(\"der aktuelle Ranglistenführer ist {}\".format(latestRank.country_full.iloc[0]))\n",
        "print(\"die Schweiz ist derzeit auf Rang {}!\".format(latestRank.loc[latestRank.country_full == 'Switzerland', 'rank'].to_string(index=False, header=False)))\n",
        "\n"
      ],
      "execution_count": 69,
      "outputs": [
        {
          "output_type": "stream",
          "text": [
            "das frühste rank_date ist 1993-08-08\n",
            "das letzte rank_date ist 2018-06-07\n",
            "der aktuelle Ranglistenführer ist Germany\n",
            "die Schweiz ist derzeit auf Rang 6!\n"
          ],
          "name": "stdout"
        }
      ]
    },
    {
      "metadata": {
        "id": "fdna39wpZdsG",
        "colab_type": "text"
      },
      "cell_type": "markdown",
      "source": [
        "Insgesamt hat die Tabelle __57 793__ Zeilen und __16__ Spalten. Im Wesentlichen gibt es nur wenige wichtige Spalten. Die anderen wurden davon abgeleitet.\n",
        "- rank\n",
        "- total_points\n",
        "- country\n",
        "\n",
        "Im Data Science Bereich ist es oft so, dass versucht wird mit der einfachsten Annahmen anzufange. Deshalb wäre eine gute Schätzung, wenn wir die Ränge hernehmen und dadurch die Gruppensieger bestimmen. Deshalb schauen uns wir am besten mal an wie sich die Gruppe E (die Gruppe von der Schweiz)entwickelt hat."
      ]
    },
    {
      "metadata": {
        "id": "cnvINJT4ktr5",
        "colab_type": "code",
        "colab": {
          "base_uri": "https://localhost:8080/",
          "height": 358
        },
        "outputId": "eda3745c-05ad-4d30-c878-944e641c1f5a"
      },
      "cell_type": "code",
      "source": [
        "# gruppen\n",
        "groupE = [\"Brazil\", \"Switzerland\", \"Costa Rica\", \"Serbia\"]\n",
        "\n",
        "# convert string to date\n",
        "rank_data.rank_date = pd.to_datetime(rank_data.rank_date)\n",
        "\n",
        "#groupE = [\"Switzerland\"]\n",
        "t_data = rank_data.loc[rank_data.country_full.isin(groupE), ['rank_date', 'total_points', 'country_full']]\n",
        "points_groupE = pd.pivot_table(t_data, columns='country_full', values='total_points', index='rank_date', aggfunc=np.sum)\n",
        "points_groupE.plot()\n",
        "#rank_groupE.head(1500)\n",
        "#rank_groupE.plot()\n",
        "\n",
        "\n",
        "\n",
        "\n"
      ],
      "execution_count": 103,
      "outputs": [
        {
          "output_type": "execute_result",
          "data": {
            "text/plain": [
              "<matplotlib.axes._subplots.AxesSubplot at 0x7fd913b70198>"
            ]
          },
          "metadata": {
            "tags": []
          },
          "execution_count": 103
        },
        {
          "output_type": "display_data",
          "data": {
            "image/png": "[encoded data removed]",
            "text/plain": [
              "<matplotlib.figure.Figure at 0x7fd9139bf0b8>"
            ]
          },
          "metadata": {
            "tags": []
          }
        }
      ]
    }
  ]
}